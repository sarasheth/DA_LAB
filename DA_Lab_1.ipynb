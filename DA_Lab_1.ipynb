{
  "nbformat": 4,
  "nbformat_minor": 0,
  "metadata": {
    "colab": {
      "provenance": [],
      "include_colab_link": true
    },
    "kernelspec": {
      "name": "python3",
      "display_name": "Python 3"
    },
    "language_info": {
      "name": "python"
    }
  },
  "cells": [
    {
      "cell_type": "markdown",
      "metadata": {
        "id": "view-in-github",
        "colab_type": "text"
      },
      "source": [
        "<a href=\"https://colab.research.google.com/github/sarasheth/DA_LAB/blob/main/DA_Lab_1.ipynb\" target=\"_parent\"><img src=\"https://colab.research.google.com/assets/colab-badge.svg\" alt=\"Open In Colab\"/></a>"
      ]
    },
    {
      "cell_type": "markdown",
      "source": [
        "Name : Sara Sheth\n",
        "UID : 2019120058\n",
        "Course : Data Analytics Lab"
      ],
      "metadata": {
        "id": "yOkbh-xnsQ9N"
      }
    },
    {
      "cell_type": "markdown",
      "source": [
        "Objectives:\n",
        "Perform EDA such as number of data samples, number of features, number of classes, number\n",
        "of data samples per class, removing missing values, conversion to numbers, using seaborn\n",
        "library to plot different graphs."
      ],
      "metadata": {
        "id": "cFnoz9rAsnXT"
      }
    },
    {
      "cell_type": "markdown",
      "source": [
        "Importing Liberaries"
      ],
      "metadata": {
        "id": "O3sH9wNvsy1E"
      }
    },
    {
      "cell_type": "code",
      "execution_count": 1,
      "metadata": {
        "id": "1VN5rjkxa_NY"
      },
      "outputs": [],
      "source": [
        "import pandas as pd\n",
        "import numpy as np\n",
        "import seaborn as sns\n",
        "import matplotlib.pyplot as plt\n",
        "from seaborn import load_dataset"
      ]
    },
    {
      "cell_type": "markdown",
      "source": [
        "**Theory:**\n",
        "**EDA(Exploratory Data Analysis)** \n",
        "Exploratory data analysis (EDA) is used by data scientists to analyze and investigate data sets and summarize their main characteristics, often employing data visualization methods. It helps determine how best to manipulate data sources to get the answers you need, making it easier for data scientists to discover patterns, spot anomalies, test a hypothesis, or check assumptions.\n",
        "\n",
        "EDA is primarily used to see what data can reveal beyond the formal modeling or hypothesis testing task and provides a provides a better understanding of data set variables and the relationships between them. It can also help determine if the statistical techniques you are considering for data analysis are appropriate."
      ],
      "metadata": {
        "id": "h1nyJG7yEPRh"
      }
    },
    {
      "cell_type": "markdown",
      "source": [
        "Loading data into Dataframe"
      ],
      "metadata": {
        "id": "Y6-udxH2s3DB"
      }
    },
    {
      "cell_type": "code",
      "source": [
        "df = pd.read_csv('vaccination-data.csv')"
      ],
      "metadata": {
        "id": "Q2ClUnFfcLQN"
      },
      "execution_count": 2,
      "outputs": []
    },
    {
      "cell_type": "code",
      "source": [
        "import pandas as pd\n",
        "import io\n",
        "\n",
        "print(df)"
      ],
      "metadata": {
        "colab": {
          "base_uri": "https://localhost:8080/"
        },
        "id": "ygnTPbExcilC",
        "outputId": "d6da2ba3-0fc2-4022-ee16-1544c09a887f"
      },
      "execution_count": 3,
      "outputs": [
        {
          "output_type": "stream",
          "name": "stdout",
          "text": [
            "               COUNTRY ISO3 WHO_REGION DATA_SOURCE DATE_UPDATED  \\\n",
            "0          Afghanistan  AFG       EMRO   REPORTING   2022-02-07   \n",
            "1              Albania  ALB       EURO   REPORTING   2022-01-30   \n",
            "2              Algeria  DZA       AFRO   REPORTING   2022-01-09   \n",
            "3       American Samoa  ASM       WPRO   REPORTING   2022-01-28   \n",
            "4              Andorra  AND       EURO   REPORTING   2022-01-23   \n",
            "..                 ...  ...        ...         ...          ...   \n",
            "223           Viet Nam  VNM       WPRO   REPORTING   2022-01-27   \n",
            "224  Wallis and Futuna  WLF       WPRO   REPORTING   2022-01-11   \n",
            "225              Yemen  YEM       EMRO   REPORTING   2022-02-07   \n",
            "226             Zambia  ZMB       AFRO   REPORTING   2021-11-18   \n",
            "227           Zimbabwe  ZWE       AFRO   REPORTING   2022-01-29   \n",
            "\n",
            "     TOTAL_VACCINATIONS  PERSONS_VACCINATED_1PLUS_DOSE  \\\n",
            "0               5216998                      4634282.0   \n",
            "1               2613974                      1261272.0   \n",
            "2              12974545                      7247787.0   \n",
            "3                 82992                        41820.0   \n",
            "4                140193                        57709.0   \n",
            "..                  ...                            ...   \n",
            "223           180366266                     79023934.0   \n",
            "224               12287                         6151.0   \n",
            "225              758480                       600559.0   \n",
            "226             1041441                       832532.0   \n",
            "227             7608063                      4263080.0   \n",
            "\n",
            "     TOTAL_VACCINATIONS_PER100  PERSONS_VACCINATED_1PLUS_DOSE_PER100  \\\n",
            "0                       13.402                                11.905   \n",
            "1                       90.800                                44.318   \n",
            "2                       29.588                                16.528   \n",
            "3                      150.356                                75.765   \n",
            "4                      181.400                                75.756   \n",
            "..                         ...                                   ...   \n",
            "223                    185.298                                81.185   \n",
            "224                    109.257                                54.695   \n",
            "225                      2.543                                 2.014   \n",
            "226                      5.665                                 4.529   \n",
            "227                     51.188                                28.683   \n",
            "\n",
            "     PERSONS_FULLY_VACCINATED  PERSONS_FULLY_VACCINATED_PER100  \\\n",
            "0                   3959887.0                           10.172   \n",
            "1                   1127431.0                           40.377   \n",
            "2                   5796432.0                           13.218   \n",
            "3                     36804.0                           66.678   \n",
            "4                     53046.0                           69.711   \n",
            "..                        ...                              ...   \n",
            "223                74011623.0                           76.035   \n",
            "224                    6136.0                           54.562   \n",
            "225                  358824.0                            1.203   \n",
            "226                  651965.0                            3.546   \n",
            "227                 3291261.0                           22.144   \n",
            "\n",
            "                                         VACCINES_USED FIRST_VACCINE_DATE  \\\n",
            "0    Beijing CNBG - BBIBP-CorV,Janssen - Ad26.COV 2...         2021-02-22   \n",
            "1    AstraZeneca - Vaxzevria,Gamaleya - Gam-Covid-V...         2021-01-13   \n",
            "2    Beijing CNBG - BBIBP-CorV,Gamaleya - Gam-Covid...         2021-01-30   \n",
            "3    Janssen - Ad26.COV 2-S,Moderna - Spikevax,Pfiz...         2020-12-21   \n",
            "4    AstraZeneca - Vaxzevria,Moderna - Spikevax,Pfi...         2021-01-20   \n",
            "..                                                 ...                ...   \n",
            "223  AstraZeneca - Vaxzevria,Beijing CNBG - BBIBP-C...         2021-03-08   \n",
            "224                                 Moderna - Spikevax         2021-03-19   \n",
            "225  Janssen - Ad26.COV 2-S,SII - Covishield,Sinova...         2021-04-20   \n",
            "226  Beijing CNBG - BBIBP-CorV,Janssen - Ad26.COV 2...         2021-04-14   \n",
            "227  Beijing CNBG - BBIBP-CorV,Bharat - Covaxin,Gam...         2021-02-18   \n",
            "\n",
            "     NUMBER_VACCINES_TYPES_USED  \n",
            "0                           4.0  \n",
            "1                           5.0  \n",
            "2                           4.0  \n",
            "3                           3.0  \n",
            "4                           3.0  \n",
            "..                          ...  \n",
            "223                         6.0  \n",
            "224                         1.0  \n",
            "225                         3.0  \n",
            "226                         3.0  \n",
            "227                         4.0  \n",
            "\n",
            "[228 rows x 14 columns]\n"
          ]
        }
      ]
    },
    {
      "cell_type": "markdown",
      "source": [
        "displaying first 5 rows of data"
      ],
      "metadata": {
        "id": "AYLK7cyVtHDa"
      }
    },
    {
      "cell_type": "code",
      "source": [
        "df.head()"
      ],
      "metadata": {
        "colab": {
          "base_uri": "https://localhost:8080/",
          "height": 496
        },
        "id": "JIHDr_9Tc0GM",
        "outputId": "39814061-b8e6-4730-be60-25608bcd3064"
      },
      "execution_count": 4,
      "outputs": [
        {
          "output_type": "execute_result",
          "data": {
            "text/plain": [
              "          COUNTRY ISO3 WHO_REGION DATA_SOURCE DATE_UPDATED  \\\n",
              "0     Afghanistan  AFG       EMRO   REPORTING   2022-02-07   \n",
              "1         Albania  ALB       EURO   REPORTING   2022-01-30   \n",
              "2         Algeria  DZA       AFRO   REPORTING   2022-01-09   \n",
              "3  American Samoa  ASM       WPRO   REPORTING   2022-01-28   \n",
              "4         Andorra  AND       EURO   REPORTING   2022-01-23   \n",
              "\n",
              "   TOTAL_VACCINATIONS  PERSONS_VACCINATED_1PLUS_DOSE  \\\n",
              "0             5216998                      4634282.0   \n",
              "1             2613974                      1261272.0   \n",
              "2            12974545                      7247787.0   \n",
              "3               82992                        41820.0   \n",
              "4              140193                        57709.0   \n",
              "\n",
              "   TOTAL_VACCINATIONS_PER100  PERSONS_VACCINATED_1PLUS_DOSE_PER100  \\\n",
              "0                     13.402                                11.905   \n",
              "1                     90.800                                44.318   \n",
              "2                     29.588                                16.528   \n",
              "3                    150.356                                75.765   \n",
              "4                    181.400                                75.756   \n",
              "\n",
              "   PERSONS_FULLY_VACCINATED  PERSONS_FULLY_VACCINATED_PER100  \\\n",
              "0                 3959887.0                           10.172   \n",
              "1                 1127431.0                           40.377   \n",
              "2                 5796432.0                           13.218   \n",
              "3                   36804.0                           66.678   \n",
              "4                   53046.0                           69.711   \n",
              "\n",
              "                                       VACCINES_USED FIRST_VACCINE_DATE  \\\n",
              "0  Beijing CNBG - BBIBP-CorV,Janssen - Ad26.COV 2...         2021-02-22   \n",
              "1  AstraZeneca - Vaxzevria,Gamaleya - Gam-Covid-V...         2021-01-13   \n",
              "2  Beijing CNBG - BBIBP-CorV,Gamaleya - Gam-Covid...         2021-01-30   \n",
              "3  Janssen - Ad26.COV 2-S,Moderna - Spikevax,Pfiz...         2020-12-21   \n",
              "4  AstraZeneca - Vaxzevria,Moderna - Spikevax,Pfi...         2021-01-20   \n",
              "\n",
              "   NUMBER_VACCINES_TYPES_USED  \n",
              "0                         4.0  \n",
              "1                         5.0  \n",
              "2                         4.0  \n",
              "3                         3.0  \n",
              "4                         3.0  "
            ],
            "text/html": [
              "\n",
              "  <div id=\"df-cdce6ed8-5dac-4a6d-94e2-65aa742502e6\">\n",
              "    <div class=\"colab-df-container\">\n",
              "      <div>\n",
              "<style scoped>\n",
              "    .dataframe tbody tr th:only-of-type {\n",
              "        vertical-align: middle;\n",
              "    }\n",
              "\n",
              "    .dataframe tbody tr th {\n",
              "        vertical-align: top;\n",
              "    }\n",
              "\n",
              "    .dataframe thead th {\n",
              "        text-align: right;\n",
              "    }\n",
              "</style>\n",
              "<table border=\"1\" class=\"dataframe\">\n",
              "  <thead>\n",
              "    <tr style=\"text-align: right;\">\n",
              "      <th></th>\n",
              "      <th>COUNTRY</th>\n",
              "      <th>ISO3</th>\n",
              "      <th>WHO_REGION</th>\n",
              "      <th>DATA_SOURCE</th>\n",
              "      <th>DATE_UPDATED</th>\n",
              "      <th>TOTAL_VACCINATIONS</th>\n",
              "      <th>PERSONS_VACCINATED_1PLUS_DOSE</th>\n",
              "      <th>TOTAL_VACCINATIONS_PER100</th>\n",
              "      <th>PERSONS_VACCINATED_1PLUS_DOSE_PER100</th>\n",
              "      <th>PERSONS_FULLY_VACCINATED</th>\n",
              "      <th>PERSONS_FULLY_VACCINATED_PER100</th>\n",
              "      <th>VACCINES_USED</th>\n",
              "      <th>FIRST_VACCINE_DATE</th>\n",
              "      <th>NUMBER_VACCINES_TYPES_USED</th>\n",
              "    </tr>\n",
              "  </thead>\n",
              "  <tbody>\n",
              "    <tr>\n",
              "      <th>0</th>\n",
              "      <td>Afghanistan</td>\n",
              "      <td>AFG</td>\n",
              "      <td>EMRO</td>\n",
              "      <td>REPORTING</td>\n",
              "      <td>2022-02-07</td>\n",
              "      <td>5216998</td>\n",
              "      <td>4634282.0</td>\n",
              "      <td>13.402</td>\n",
              "      <td>11.905</td>\n",
              "      <td>3959887.0</td>\n",
              "      <td>10.172</td>\n",
              "      <td>Beijing CNBG - BBIBP-CorV,Janssen - Ad26.COV 2...</td>\n",
              "      <td>2021-02-22</td>\n",
              "      <td>4.0</td>\n",
              "    </tr>\n",
              "    <tr>\n",
              "      <th>1</th>\n",
              "      <td>Albania</td>\n",
              "      <td>ALB</td>\n",
              "      <td>EURO</td>\n",
              "      <td>REPORTING</td>\n",
              "      <td>2022-01-30</td>\n",
              "      <td>2613974</td>\n",
              "      <td>1261272.0</td>\n",
              "      <td>90.800</td>\n",
              "      <td>44.318</td>\n",
              "      <td>1127431.0</td>\n",
              "      <td>40.377</td>\n",
              "      <td>AstraZeneca - Vaxzevria,Gamaleya - Gam-Covid-V...</td>\n",
              "      <td>2021-01-13</td>\n",
              "      <td>5.0</td>\n",
              "    </tr>\n",
              "    <tr>\n",
              "      <th>2</th>\n",
              "      <td>Algeria</td>\n",
              "      <td>DZA</td>\n",
              "      <td>AFRO</td>\n",
              "      <td>REPORTING</td>\n",
              "      <td>2022-01-09</td>\n",
              "      <td>12974545</td>\n",
              "      <td>7247787.0</td>\n",
              "      <td>29.588</td>\n",
              "      <td>16.528</td>\n",
              "      <td>5796432.0</td>\n",
              "      <td>13.218</td>\n",
              "      <td>Beijing CNBG - BBIBP-CorV,Gamaleya - Gam-Covid...</td>\n",
              "      <td>2021-01-30</td>\n",
              "      <td>4.0</td>\n",
              "    </tr>\n",
              "    <tr>\n",
              "      <th>3</th>\n",
              "      <td>American Samoa</td>\n",
              "      <td>ASM</td>\n",
              "      <td>WPRO</td>\n",
              "      <td>REPORTING</td>\n",
              "      <td>2022-01-28</td>\n",
              "      <td>82992</td>\n",
              "      <td>41820.0</td>\n",
              "      <td>150.356</td>\n",
              "      <td>75.765</td>\n",
              "      <td>36804.0</td>\n",
              "      <td>66.678</td>\n",
              "      <td>Janssen - Ad26.COV 2-S,Moderna - Spikevax,Pfiz...</td>\n",
              "      <td>2020-12-21</td>\n",
              "      <td>3.0</td>\n",
              "    </tr>\n",
              "    <tr>\n",
              "      <th>4</th>\n",
              "      <td>Andorra</td>\n",
              "      <td>AND</td>\n",
              "      <td>EURO</td>\n",
              "      <td>REPORTING</td>\n",
              "      <td>2022-01-23</td>\n",
              "      <td>140193</td>\n",
              "      <td>57709.0</td>\n",
              "      <td>181.400</td>\n",
              "      <td>75.756</td>\n",
              "      <td>53046.0</td>\n",
              "      <td>69.711</td>\n",
              "      <td>AstraZeneca - Vaxzevria,Moderna - Spikevax,Pfi...</td>\n",
              "      <td>2021-01-20</td>\n",
              "      <td>3.0</td>\n",
              "    </tr>\n",
              "  </tbody>\n",
              "</table>\n",
              "</div>\n",
              "      <button class=\"colab-df-convert\" onclick=\"convertToInteractive('df-cdce6ed8-5dac-4a6d-94e2-65aa742502e6')\"\n",
              "              title=\"Convert this dataframe to an interactive table.\"\n",
              "              style=\"display:none;\">\n",
              "        \n",
              "  <svg xmlns=\"http://www.w3.org/2000/svg\" height=\"24px\"viewBox=\"0 0 24 24\"\n",
              "       width=\"24px\">\n",
              "    <path d=\"M0 0h24v24H0V0z\" fill=\"none\"/>\n",
              "    <path d=\"M18.56 5.44l.94 2.06.94-2.06 2.06-.94-2.06-.94-.94-2.06-.94 2.06-2.06.94zm-11 1L8.5 8.5l.94-2.06 2.06-.94-2.06-.94L8.5 2.5l-.94 2.06-2.06.94zm10 10l.94 2.06.94-2.06 2.06-.94-2.06-.94-.94-2.06-.94 2.06-2.06.94z\"/><path d=\"M17.41 7.96l-1.37-1.37c-.4-.4-.92-.59-1.43-.59-.52 0-1.04.2-1.43.59L10.3 9.45l-7.72 7.72c-.78.78-.78 2.05 0 2.83L4 21.41c.39.39.9.59 1.41.59.51 0 1.02-.2 1.41-.59l7.78-7.78 2.81-2.81c.8-.78.8-2.07 0-2.86zM5.41 20L4 18.59l7.72-7.72 1.47 1.35L5.41 20z\"/>\n",
              "  </svg>\n",
              "      </button>\n",
              "      \n",
              "  <style>\n",
              "    .colab-df-container {\n",
              "      display:flex;\n",
              "      flex-wrap:wrap;\n",
              "      gap: 12px;\n",
              "    }\n",
              "\n",
              "    .colab-df-convert {\n",
              "      background-color: #E8F0FE;\n",
              "      border: none;\n",
              "      border-radius: 50%;\n",
              "      cursor: pointer;\n",
              "      display: none;\n",
              "      fill: #1967D2;\n",
              "      height: 32px;\n",
              "      padding: 0 0 0 0;\n",
              "      width: 32px;\n",
              "    }\n",
              "\n",
              "    .colab-df-convert:hover {\n",
              "      background-color: #E2EBFA;\n",
              "      box-shadow: 0px 1px 2px rgba(60, 64, 67, 0.3), 0px 1px 3px 1px rgba(60, 64, 67, 0.15);\n",
              "      fill: #174EA6;\n",
              "    }\n",
              "\n",
              "    [theme=dark] .colab-df-convert {\n",
              "      background-color: #3B4455;\n",
              "      fill: #D2E3FC;\n",
              "    }\n",
              "\n",
              "    [theme=dark] .colab-df-convert:hover {\n",
              "      background-color: #434B5C;\n",
              "      box-shadow: 0px 1px 3px 1px rgba(0, 0, 0, 0.15);\n",
              "      filter: drop-shadow(0px 1px 2px rgba(0, 0, 0, 0.3));\n",
              "      fill: #FFFFFF;\n",
              "    }\n",
              "  </style>\n",
              "\n",
              "      <script>\n",
              "        const buttonEl =\n",
              "          document.querySelector('#df-cdce6ed8-5dac-4a6d-94e2-65aa742502e6 button.colab-df-convert');\n",
              "        buttonEl.style.display =\n",
              "          google.colab.kernel.accessAllowed ? 'block' : 'none';\n",
              "\n",
              "        async function convertToInteractive(key) {\n",
              "          const element = document.querySelector('#df-cdce6ed8-5dac-4a6d-94e2-65aa742502e6');\n",
              "          const dataTable =\n",
              "            await google.colab.kernel.invokeFunction('convertToInteractive',\n",
              "                                                     [key], {});\n",
              "          if (!dataTable) return;\n",
              "\n",
              "          const docLinkHtml = 'Like what you see? Visit the ' +\n",
              "            '<a target=\"_blank\" href=https://colab.research.google.com/notebooks/data_table.ipynb>data table notebook</a>'\n",
              "            + ' to learn more about interactive tables.';\n",
              "          element.innerHTML = '';\n",
              "          dataTable['output_type'] = 'display_data';\n",
              "          await google.colab.output.renderOutput(dataTable, element);\n",
              "          const docLink = document.createElement('div');\n",
              "          docLink.innerHTML = docLinkHtml;\n",
              "          element.appendChild(docLink);\n",
              "        }\n",
              "      </script>\n",
              "    </div>\n",
              "  </div>\n",
              "  "
            ]
          },
          "metadata": {},
          "execution_count": 4
        }
      ]
    },
    {
      "cell_type": "markdown",
      "source": [
        "df.tail() displays the last 5 rows of Data"
      ],
      "metadata": {
        "id": "5oCi_SQhtbGU"
      }
    },
    {
      "cell_type": "code",
      "source": [
        "df.tail()"
      ],
      "metadata": {
        "colab": {
          "base_uri": "https://localhost:8080/",
          "height": 444
        },
        "id": "3mpr3Qvac-de",
        "outputId": "9ecbac5e-9f34-42d2-b944-23909b702ba4"
      },
      "execution_count": 5,
      "outputs": [
        {
          "output_type": "execute_result",
          "data": {
            "text/plain": [
              "               COUNTRY ISO3 WHO_REGION DATA_SOURCE DATE_UPDATED  \\\n",
              "223           Viet Nam  VNM       WPRO   REPORTING   2022-01-27   \n",
              "224  Wallis and Futuna  WLF       WPRO   REPORTING   2022-01-11   \n",
              "225              Yemen  YEM       EMRO   REPORTING   2022-02-07   \n",
              "226             Zambia  ZMB       AFRO   REPORTING   2021-11-18   \n",
              "227           Zimbabwe  ZWE       AFRO   REPORTING   2022-01-29   \n",
              "\n",
              "     TOTAL_VACCINATIONS  PERSONS_VACCINATED_1PLUS_DOSE  \\\n",
              "223           180366266                     79023934.0   \n",
              "224               12287                         6151.0   \n",
              "225              758480                       600559.0   \n",
              "226             1041441                       832532.0   \n",
              "227             7608063                      4263080.0   \n",
              "\n",
              "     TOTAL_VACCINATIONS_PER100  PERSONS_VACCINATED_1PLUS_DOSE_PER100  \\\n",
              "223                    185.298                                81.185   \n",
              "224                    109.257                                54.695   \n",
              "225                      2.543                                 2.014   \n",
              "226                      5.665                                 4.529   \n",
              "227                     51.188                                28.683   \n",
              "\n",
              "     PERSONS_FULLY_VACCINATED  PERSONS_FULLY_VACCINATED_PER100  \\\n",
              "223                74011623.0                           76.035   \n",
              "224                    6136.0                           54.562   \n",
              "225                  358824.0                            1.203   \n",
              "226                  651965.0                            3.546   \n",
              "227                 3291261.0                           22.144   \n",
              "\n",
              "                                         VACCINES_USED FIRST_VACCINE_DATE  \\\n",
              "223  AstraZeneca - Vaxzevria,Beijing CNBG - BBIBP-C...         2021-03-08   \n",
              "224                                 Moderna - Spikevax         2021-03-19   \n",
              "225  Janssen - Ad26.COV 2-S,SII - Covishield,Sinova...         2021-04-20   \n",
              "226  Beijing CNBG - BBIBP-CorV,Janssen - Ad26.COV 2...         2021-04-14   \n",
              "227  Beijing CNBG - BBIBP-CorV,Bharat - Covaxin,Gam...         2021-02-18   \n",
              "\n",
              "     NUMBER_VACCINES_TYPES_USED  \n",
              "223                         6.0  \n",
              "224                         1.0  \n",
              "225                         3.0  \n",
              "226                         3.0  \n",
              "227                         4.0  "
            ],
            "text/html": [
              "\n",
              "  <div id=\"df-68191b8b-8fcc-4baa-9d45-a3fbf33210ae\">\n",
              "    <div class=\"colab-df-container\">\n",
              "      <div>\n",
              "<style scoped>\n",
              "    .dataframe tbody tr th:only-of-type {\n",
              "        vertical-align: middle;\n",
              "    }\n",
              "\n",
              "    .dataframe tbody tr th {\n",
              "        vertical-align: top;\n",
              "    }\n",
              "\n",
              "    .dataframe thead th {\n",
              "        text-align: right;\n",
              "    }\n",
              "</style>\n",
              "<table border=\"1\" class=\"dataframe\">\n",
              "  <thead>\n",
              "    <tr style=\"text-align: right;\">\n",
              "      <th></th>\n",
              "      <th>COUNTRY</th>\n",
              "      <th>ISO3</th>\n",
              "      <th>WHO_REGION</th>\n",
              "      <th>DATA_SOURCE</th>\n",
              "      <th>DATE_UPDATED</th>\n",
              "      <th>TOTAL_VACCINATIONS</th>\n",
              "      <th>PERSONS_VACCINATED_1PLUS_DOSE</th>\n",
              "      <th>TOTAL_VACCINATIONS_PER100</th>\n",
              "      <th>PERSONS_VACCINATED_1PLUS_DOSE_PER100</th>\n",
              "      <th>PERSONS_FULLY_VACCINATED</th>\n",
              "      <th>PERSONS_FULLY_VACCINATED_PER100</th>\n",
              "      <th>VACCINES_USED</th>\n",
              "      <th>FIRST_VACCINE_DATE</th>\n",
              "      <th>NUMBER_VACCINES_TYPES_USED</th>\n",
              "    </tr>\n",
              "  </thead>\n",
              "  <tbody>\n",
              "    <tr>\n",
              "      <th>223</th>\n",
              "      <td>Viet Nam</td>\n",
              "      <td>VNM</td>\n",
              "      <td>WPRO</td>\n",
              "      <td>REPORTING</td>\n",
              "      <td>2022-01-27</td>\n",
              "      <td>180366266</td>\n",
              "      <td>79023934.0</td>\n",
              "      <td>185.298</td>\n",
              "      <td>81.185</td>\n",
              "      <td>74011623.0</td>\n",
              "      <td>76.035</td>\n",
              "      <td>AstraZeneca - Vaxzevria,Beijing CNBG - BBIBP-C...</td>\n",
              "      <td>2021-03-08</td>\n",
              "      <td>6.0</td>\n",
              "    </tr>\n",
              "    <tr>\n",
              "      <th>224</th>\n",
              "      <td>Wallis and Futuna</td>\n",
              "      <td>WLF</td>\n",
              "      <td>WPRO</td>\n",
              "      <td>REPORTING</td>\n",
              "      <td>2022-01-11</td>\n",
              "      <td>12287</td>\n",
              "      <td>6151.0</td>\n",
              "      <td>109.257</td>\n",
              "      <td>54.695</td>\n",
              "      <td>6136.0</td>\n",
              "      <td>54.562</td>\n",
              "      <td>Moderna - Spikevax</td>\n",
              "      <td>2021-03-19</td>\n",
              "      <td>1.0</td>\n",
              "    </tr>\n",
              "    <tr>\n",
              "      <th>225</th>\n",
              "      <td>Yemen</td>\n",
              "      <td>YEM</td>\n",
              "      <td>EMRO</td>\n",
              "      <td>REPORTING</td>\n",
              "      <td>2022-02-07</td>\n",
              "      <td>758480</td>\n",
              "      <td>600559.0</td>\n",
              "      <td>2.543</td>\n",
              "      <td>2.014</td>\n",
              "      <td>358824.0</td>\n",
              "      <td>1.203</td>\n",
              "      <td>Janssen - Ad26.COV 2-S,SII - Covishield,Sinova...</td>\n",
              "      <td>2021-04-20</td>\n",
              "      <td>3.0</td>\n",
              "    </tr>\n",
              "    <tr>\n",
              "      <th>226</th>\n",
              "      <td>Zambia</td>\n",
              "      <td>ZMB</td>\n",
              "      <td>AFRO</td>\n",
              "      <td>REPORTING</td>\n",
              "      <td>2021-11-18</td>\n",
              "      <td>1041441</td>\n",
              "      <td>832532.0</td>\n",
              "      <td>5.665</td>\n",
              "      <td>4.529</td>\n",
              "      <td>651965.0</td>\n",
              "      <td>3.546</td>\n",
              "      <td>Beijing CNBG - BBIBP-CorV,Janssen - Ad26.COV 2...</td>\n",
              "      <td>2021-04-14</td>\n",
              "      <td>3.0</td>\n",
              "    </tr>\n",
              "    <tr>\n",
              "      <th>227</th>\n",
              "      <td>Zimbabwe</td>\n",
              "      <td>ZWE</td>\n",
              "      <td>AFRO</td>\n",
              "      <td>REPORTING</td>\n",
              "      <td>2022-01-29</td>\n",
              "      <td>7608063</td>\n",
              "      <td>4263080.0</td>\n",
              "      <td>51.188</td>\n",
              "      <td>28.683</td>\n",
              "      <td>3291261.0</td>\n",
              "      <td>22.144</td>\n",
              "      <td>Beijing CNBG - BBIBP-CorV,Bharat - Covaxin,Gam...</td>\n",
              "      <td>2021-02-18</td>\n",
              "      <td>4.0</td>\n",
              "    </tr>\n",
              "  </tbody>\n",
              "</table>\n",
              "</div>\n",
              "      <button class=\"colab-df-convert\" onclick=\"convertToInteractive('df-68191b8b-8fcc-4baa-9d45-a3fbf33210ae')\"\n",
              "              title=\"Convert this dataframe to an interactive table.\"\n",
              "              style=\"display:none;\">\n",
              "        \n",
              "  <svg xmlns=\"http://www.w3.org/2000/svg\" height=\"24px\"viewBox=\"0 0 24 24\"\n",
              "       width=\"24px\">\n",
              "    <path d=\"M0 0h24v24H0V0z\" fill=\"none\"/>\n",
              "    <path d=\"M18.56 5.44l.94 2.06.94-2.06 2.06-.94-2.06-.94-.94-2.06-.94 2.06-2.06.94zm-11 1L8.5 8.5l.94-2.06 2.06-.94-2.06-.94L8.5 2.5l-.94 2.06-2.06.94zm10 10l.94 2.06.94-2.06 2.06-.94-2.06-.94-.94-2.06-.94 2.06-2.06.94z\"/><path d=\"M17.41 7.96l-1.37-1.37c-.4-.4-.92-.59-1.43-.59-.52 0-1.04.2-1.43.59L10.3 9.45l-7.72 7.72c-.78.78-.78 2.05 0 2.83L4 21.41c.39.39.9.59 1.41.59.51 0 1.02-.2 1.41-.59l7.78-7.78 2.81-2.81c.8-.78.8-2.07 0-2.86zM5.41 20L4 18.59l7.72-7.72 1.47 1.35L5.41 20z\"/>\n",
              "  </svg>\n",
              "      </button>\n",
              "      \n",
              "  <style>\n",
              "    .colab-df-container {\n",
              "      display:flex;\n",
              "      flex-wrap:wrap;\n",
              "      gap: 12px;\n",
              "    }\n",
              "\n",
              "    .colab-df-convert {\n",
              "      background-color: #E8F0FE;\n",
              "      border: none;\n",
              "      border-radius: 50%;\n",
              "      cursor: pointer;\n",
              "      display: none;\n",
              "      fill: #1967D2;\n",
              "      height: 32px;\n",
              "      padding: 0 0 0 0;\n",
              "      width: 32px;\n",
              "    }\n",
              "\n",
              "    .colab-df-convert:hover {\n",
              "      background-color: #E2EBFA;\n",
              "      box-shadow: 0px 1px 2px rgba(60, 64, 67, 0.3), 0px 1px 3px 1px rgba(60, 64, 67, 0.15);\n",
              "      fill: #174EA6;\n",
              "    }\n",
              "\n",
              "    [theme=dark] .colab-df-convert {\n",
              "      background-color: #3B4455;\n",
              "      fill: #D2E3FC;\n",
              "    }\n",
              "\n",
              "    [theme=dark] .colab-df-convert:hover {\n",
              "      background-color: #434B5C;\n",
              "      box-shadow: 0px 1px 3px 1px rgba(0, 0, 0, 0.15);\n",
              "      filter: drop-shadow(0px 1px 2px rgba(0, 0, 0, 0.3));\n",
              "      fill: #FFFFFF;\n",
              "    }\n",
              "  </style>\n",
              "\n",
              "      <script>\n",
              "        const buttonEl =\n",
              "          document.querySelector('#df-68191b8b-8fcc-4baa-9d45-a3fbf33210ae button.colab-df-convert');\n",
              "        buttonEl.style.display =\n",
              "          google.colab.kernel.accessAllowed ? 'block' : 'none';\n",
              "\n",
              "        async function convertToInteractive(key) {\n",
              "          const element = document.querySelector('#df-68191b8b-8fcc-4baa-9d45-a3fbf33210ae');\n",
              "          const dataTable =\n",
              "            await google.colab.kernel.invokeFunction('convertToInteractive',\n",
              "                                                     [key], {});\n",
              "          if (!dataTable) return;\n",
              "\n",
              "          const docLinkHtml = 'Like what you see? Visit the ' +\n",
              "            '<a target=\"_blank\" href=https://colab.research.google.com/notebooks/data_table.ipynb>data table notebook</a>'\n",
              "            + ' to learn more about interactive tables.';\n",
              "          element.innerHTML = '';\n",
              "          dataTable['output_type'] = 'display_data';\n",
              "          await google.colab.output.renderOutput(dataTable, element);\n",
              "          const docLink = document.createElement('div');\n",
              "          docLink.innerHTML = docLinkHtml;\n",
              "          element.appendChild(docLink);\n",
              "        }\n",
              "      </script>\n",
              "    </div>\n",
              "  </div>\n",
              "  "
            ]
          },
          "metadata": {},
          "execution_count": 5
        }
      ]
    },
    {
      "cell_type": "markdown",
      "source": [
        "Number of rows and columns present in data"
      ],
      "metadata": {
        "id": "t9-DlTiltiOK"
      }
    },
    {
      "cell_type": "code",
      "source": [
        "df.shape"
      ],
      "metadata": {
        "colab": {
          "base_uri": "https://localhost:8080/"
        },
        "id": "9tEmjNkOdBxO",
        "outputId": "eae5cdb8-51d3-420d-dcb2-d81f66a06d6b"
      },
      "execution_count": 6,
      "outputs": [
        {
          "output_type": "execute_result",
          "data": {
            "text/plain": [
              "(228, 14)"
            ]
          },
          "metadata": {},
          "execution_count": 6
        }
      ]
    },
    {
      "cell_type": "markdown",
      "source": [
        "Checking if there is any duplicate rows in data and removing them"
      ],
      "metadata": {
        "id": "4l2PznaDt_Ej"
      }
    },
    {
      "cell_type": "code",
      "source": [
        "duplicate_rows_df = df[df.duplicated()]\n",
        "print(\" Number of duplicate rows: \",duplicate_rows_df.shape)"
      ],
      "metadata": {
        "colab": {
          "base_uri": "https://localhost:8080/"
        },
        "id": "9kmF0FuBdJwr",
        "outputId": "82c760e4-08b5-4c1d-90a5-bd1444cf870b"
      },
      "execution_count": 7,
      "outputs": [
        {
          "output_type": "stream",
          "name": "stdout",
          "text": [
            " Number of duplicate rows:  (0, 14)\n"
          ]
        }
      ]
    },
    {
      "cell_type": "markdown",
      "source": [
        "Checking the number of rows that each column contains"
      ],
      "metadata": {
        "id": "Y_y6ngNHuWgQ"
      }
    },
    {
      "cell_type": "code",
      "source": [
        "df.count()"
      ],
      "metadata": {
        "colab": {
          "base_uri": "https://localhost:8080/"
        },
        "id": "1ADF-NnIdr-D",
        "outputId": "b827322d-9331-4e7c-b797-7da8db0efc20"
      },
      "execution_count": 8,
      "outputs": [
        {
          "output_type": "execute_result",
          "data": {
            "text/plain": [
              "COUNTRY                                 228\n",
              "ISO3                                    228\n",
              "WHO_REGION                              228\n",
              "DATA_SOURCE                             228\n",
              "DATE_UPDATED                            228\n",
              "TOTAL_VACCINATIONS                      228\n",
              "PERSONS_VACCINATED_1PLUS_DOSE           225\n",
              "TOTAL_VACCINATIONS_PER100               228\n",
              "PERSONS_VACCINATED_1PLUS_DOSE_PER100    225\n",
              "PERSONS_FULLY_VACCINATED                225\n",
              "PERSONS_FULLY_VACCINATED_PER100         225\n",
              "VACCINES_USED                           225\n",
              "FIRST_VACCINE_DATE                      208\n",
              "NUMBER_VACCINES_TYPES_USED              225\n",
              "dtype: int64"
            ]
          },
          "metadata": {},
          "execution_count": 8
        }
      ]
    },
    {
      "cell_type": "markdown",
      "source": [
        " **deleting the duplicate rows and displaying the first 5 rows of data**"
      ],
      "metadata": {
        "id": "d7_xlMhzuolU"
      }
    },
    {
      "cell_type": "code",
      "source": [
        "df = df.drop_duplicates()\n",
        "df.head(5)"
      ],
      "metadata": {
        "colab": {
          "base_uri": "https://localhost:8080/",
          "height": 496
        },
        "id": "c9h-sCjSd9bG",
        "outputId": "b03ce86b-b987-4ab8-c6d8-7f311a135872"
      },
      "execution_count": 9,
      "outputs": [
        {
          "output_type": "execute_result",
          "data": {
            "text/plain": [
              "          COUNTRY ISO3 WHO_REGION DATA_SOURCE DATE_UPDATED  \\\n",
              "0     Afghanistan  AFG       EMRO   REPORTING   2022-02-07   \n",
              "1         Albania  ALB       EURO   REPORTING   2022-01-30   \n",
              "2         Algeria  DZA       AFRO   REPORTING   2022-01-09   \n",
              "3  American Samoa  ASM       WPRO   REPORTING   2022-01-28   \n",
              "4         Andorra  AND       EURO   REPORTING   2022-01-23   \n",
              "\n",
              "   TOTAL_VACCINATIONS  PERSONS_VACCINATED_1PLUS_DOSE  \\\n",
              "0             5216998                      4634282.0   \n",
              "1             2613974                      1261272.0   \n",
              "2            12974545                      7247787.0   \n",
              "3               82992                        41820.0   \n",
              "4              140193                        57709.0   \n",
              "\n",
              "   TOTAL_VACCINATIONS_PER100  PERSONS_VACCINATED_1PLUS_DOSE_PER100  \\\n",
              "0                     13.402                                11.905   \n",
              "1                     90.800                                44.318   \n",
              "2                     29.588                                16.528   \n",
              "3                    150.356                                75.765   \n",
              "4                    181.400                                75.756   \n",
              "\n",
              "   PERSONS_FULLY_VACCINATED  PERSONS_FULLY_VACCINATED_PER100  \\\n",
              "0                 3959887.0                           10.172   \n",
              "1                 1127431.0                           40.377   \n",
              "2                 5796432.0                           13.218   \n",
              "3                   36804.0                           66.678   \n",
              "4                   53046.0                           69.711   \n",
              "\n",
              "                                       VACCINES_USED FIRST_VACCINE_DATE  \\\n",
              "0  Beijing CNBG - BBIBP-CorV,Janssen - Ad26.COV 2...         2021-02-22   \n",
              "1  AstraZeneca - Vaxzevria,Gamaleya - Gam-Covid-V...         2021-01-13   \n",
              "2  Beijing CNBG - BBIBP-CorV,Gamaleya - Gam-Covid...         2021-01-30   \n",
              "3  Janssen - Ad26.COV 2-S,Moderna - Spikevax,Pfiz...         2020-12-21   \n",
              "4  AstraZeneca - Vaxzevria,Moderna - Spikevax,Pfi...         2021-01-20   \n",
              "\n",
              "   NUMBER_VACCINES_TYPES_USED  \n",
              "0                         4.0  \n",
              "1                         5.0  \n",
              "2                         4.0  \n",
              "3                         3.0  \n",
              "4                         3.0  "
            ],
            "text/html": [
              "\n",
              "  <div id=\"df-a207d308-e524-4a2e-9799-a7a09cb4ec2b\">\n",
              "    <div class=\"colab-df-container\">\n",
              "      <div>\n",
              "<style scoped>\n",
              "    .dataframe tbody tr th:only-of-type {\n",
              "        vertical-align: middle;\n",
              "    }\n",
              "\n",
              "    .dataframe tbody tr th {\n",
              "        vertical-align: top;\n",
              "    }\n",
              "\n",
              "    .dataframe thead th {\n",
              "        text-align: right;\n",
              "    }\n",
              "</style>\n",
              "<table border=\"1\" class=\"dataframe\">\n",
              "  <thead>\n",
              "    <tr style=\"text-align: right;\">\n",
              "      <th></th>\n",
              "      <th>COUNTRY</th>\n",
              "      <th>ISO3</th>\n",
              "      <th>WHO_REGION</th>\n",
              "      <th>DATA_SOURCE</th>\n",
              "      <th>DATE_UPDATED</th>\n",
              "      <th>TOTAL_VACCINATIONS</th>\n",
              "      <th>PERSONS_VACCINATED_1PLUS_DOSE</th>\n",
              "      <th>TOTAL_VACCINATIONS_PER100</th>\n",
              "      <th>PERSONS_VACCINATED_1PLUS_DOSE_PER100</th>\n",
              "      <th>PERSONS_FULLY_VACCINATED</th>\n",
              "      <th>PERSONS_FULLY_VACCINATED_PER100</th>\n",
              "      <th>VACCINES_USED</th>\n",
              "      <th>FIRST_VACCINE_DATE</th>\n",
              "      <th>NUMBER_VACCINES_TYPES_USED</th>\n",
              "    </tr>\n",
              "  </thead>\n",
              "  <tbody>\n",
              "    <tr>\n",
              "      <th>0</th>\n",
              "      <td>Afghanistan</td>\n",
              "      <td>AFG</td>\n",
              "      <td>EMRO</td>\n",
              "      <td>REPORTING</td>\n",
              "      <td>2022-02-07</td>\n",
              "      <td>5216998</td>\n",
              "      <td>4634282.0</td>\n",
              "      <td>13.402</td>\n",
              "      <td>11.905</td>\n",
              "      <td>3959887.0</td>\n",
              "      <td>10.172</td>\n",
              "      <td>Beijing CNBG - BBIBP-CorV,Janssen - Ad26.COV 2...</td>\n",
              "      <td>2021-02-22</td>\n",
              "      <td>4.0</td>\n",
              "    </tr>\n",
              "    <tr>\n",
              "      <th>1</th>\n",
              "      <td>Albania</td>\n",
              "      <td>ALB</td>\n",
              "      <td>EURO</td>\n",
              "      <td>REPORTING</td>\n",
              "      <td>2022-01-30</td>\n",
              "      <td>2613974</td>\n",
              "      <td>1261272.0</td>\n",
              "      <td>90.800</td>\n",
              "      <td>44.318</td>\n",
              "      <td>1127431.0</td>\n",
              "      <td>40.377</td>\n",
              "      <td>AstraZeneca - Vaxzevria,Gamaleya - Gam-Covid-V...</td>\n",
              "      <td>2021-01-13</td>\n",
              "      <td>5.0</td>\n",
              "    </tr>\n",
              "    <tr>\n",
              "      <th>2</th>\n",
              "      <td>Algeria</td>\n",
              "      <td>DZA</td>\n",
              "      <td>AFRO</td>\n",
              "      <td>REPORTING</td>\n",
              "      <td>2022-01-09</td>\n",
              "      <td>12974545</td>\n",
              "      <td>7247787.0</td>\n",
              "      <td>29.588</td>\n",
              "      <td>16.528</td>\n",
              "      <td>5796432.0</td>\n",
              "      <td>13.218</td>\n",
              "      <td>Beijing CNBG - BBIBP-CorV,Gamaleya - Gam-Covid...</td>\n",
              "      <td>2021-01-30</td>\n",
              "      <td>4.0</td>\n",
              "    </tr>\n",
              "    <tr>\n",
              "      <th>3</th>\n",
              "      <td>American Samoa</td>\n",
              "      <td>ASM</td>\n",
              "      <td>WPRO</td>\n",
              "      <td>REPORTING</td>\n",
              "      <td>2022-01-28</td>\n",
              "      <td>82992</td>\n",
              "      <td>41820.0</td>\n",
              "      <td>150.356</td>\n",
              "      <td>75.765</td>\n",
              "      <td>36804.0</td>\n",
              "      <td>66.678</td>\n",
              "      <td>Janssen - Ad26.COV 2-S,Moderna - Spikevax,Pfiz...</td>\n",
              "      <td>2020-12-21</td>\n",
              "      <td>3.0</td>\n",
              "    </tr>\n",
              "    <tr>\n",
              "      <th>4</th>\n",
              "      <td>Andorra</td>\n",
              "      <td>AND</td>\n",
              "      <td>EURO</td>\n",
              "      <td>REPORTING</td>\n",
              "      <td>2022-01-23</td>\n",
              "      <td>140193</td>\n",
              "      <td>57709.0</td>\n",
              "      <td>181.400</td>\n",
              "      <td>75.756</td>\n",
              "      <td>53046.0</td>\n",
              "      <td>69.711</td>\n",
              "      <td>AstraZeneca - Vaxzevria,Moderna - Spikevax,Pfi...</td>\n",
              "      <td>2021-01-20</td>\n",
              "      <td>3.0</td>\n",
              "    </tr>\n",
              "  </tbody>\n",
              "</table>\n",
              "</div>\n",
              "      <button class=\"colab-df-convert\" onclick=\"convertToInteractive('df-a207d308-e524-4a2e-9799-a7a09cb4ec2b')\"\n",
              "              title=\"Convert this dataframe to an interactive table.\"\n",
              "              style=\"display:none;\">\n",
              "        \n",
              "  <svg xmlns=\"http://www.w3.org/2000/svg\" height=\"24px\"viewBox=\"0 0 24 24\"\n",
              "       width=\"24px\">\n",
              "    <path d=\"M0 0h24v24H0V0z\" fill=\"none\"/>\n",
              "    <path d=\"M18.56 5.44l.94 2.06.94-2.06 2.06-.94-2.06-.94-.94-2.06-.94 2.06-2.06.94zm-11 1L8.5 8.5l.94-2.06 2.06-.94-2.06-.94L8.5 2.5l-.94 2.06-2.06.94zm10 10l.94 2.06.94-2.06 2.06-.94-2.06-.94-.94-2.06-.94 2.06-2.06.94z\"/><path d=\"M17.41 7.96l-1.37-1.37c-.4-.4-.92-.59-1.43-.59-.52 0-1.04.2-1.43.59L10.3 9.45l-7.72 7.72c-.78.78-.78 2.05 0 2.83L4 21.41c.39.39.9.59 1.41.59.51 0 1.02-.2 1.41-.59l7.78-7.78 2.81-2.81c.8-.78.8-2.07 0-2.86zM5.41 20L4 18.59l7.72-7.72 1.47 1.35L5.41 20z\"/>\n",
              "  </svg>\n",
              "      </button>\n",
              "      \n",
              "  <style>\n",
              "    .colab-df-container {\n",
              "      display:flex;\n",
              "      flex-wrap:wrap;\n",
              "      gap: 12px;\n",
              "    }\n",
              "\n",
              "    .colab-df-convert {\n",
              "      background-color: #E8F0FE;\n",
              "      border: none;\n",
              "      border-radius: 50%;\n",
              "      cursor: pointer;\n",
              "      display: none;\n",
              "      fill: #1967D2;\n",
              "      height: 32px;\n",
              "      padding: 0 0 0 0;\n",
              "      width: 32px;\n",
              "    }\n",
              "\n",
              "    .colab-df-convert:hover {\n",
              "      background-color: #E2EBFA;\n",
              "      box-shadow: 0px 1px 2px rgba(60, 64, 67, 0.3), 0px 1px 3px 1px rgba(60, 64, 67, 0.15);\n",
              "      fill: #174EA6;\n",
              "    }\n",
              "\n",
              "    [theme=dark] .colab-df-convert {\n",
              "      background-color: #3B4455;\n",
              "      fill: #D2E3FC;\n",
              "    }\n",
              "\n",
              "    [theme=dark] .colab-df-convert:hover {\n",
              "      background-color: #434B5C;\n",
              "      box-shadow: 0px 1px 3px 1px rgba(0, 0, 0, 0.15);\n",
              "      filter: drop-shadow(0px 1px 2px rgba(0, 0, 0, 0.3));\n",
              "      fill: #FFFFFF;\n",
              "    }\n",
              "  </style>\n",
              "\n",
              "      <script>\n",
              "        const buttonEl =\n",
              "          document.querySelector('#df-a207d308-e524-4a2e-9799-a7a09cb4ec2b button.colab-df-convert');\n",
              "        buttonEl.style.display =\n",
              "          google.colab.kernel.accessAllowed ? 'block' : 'none';\n",
              "\n",
              "        async function convertToInteractive(key) {\n",
              "          const element = document.querySelector('#df-a207d308-e524-4a2e-9799-a7a09cb4ec2b');\n",
              "          const dataTable =\n",
              "            await google.colab.kernel.invokeFunction('convertToInteractive',\n",
              "                                                     [key], {});\n",
              "          if (!dataTable) return;\n",
              "\n",
              "          const docLinkHtml = 'Like what you see? Visit the ' +\n",
              "            '<a target=\"_blank\" href=https://colab.research.google.com/notebooks/data_table.ipynb>data table notebook</a>'\n",
              "            + ' to learn more about interactive tables.';\n",
              "          element.innerHTML = '';\n",
              "          dataTable['output_type'] = 'display_data';\n",
              "          await google.colab.output.renderOutput(dataTable, element);\n",
              "          const docLink = document.createElement('div');\n",
              "          docLink.innerHTML = docLinkHtml;\n",
              "          element.appendChild(docLink);\n",
              "        }\n",
              "      </script>\n",
              "    </div>\n",
              "  </div>\n",
              "  "
            ]
          },
          "metadata": {},
          "execution_count": 9
        }
      ]
    },
    {
      "cell_type": "code",
      "source": [
        "df.count()"
      ],
      "metadata": {
        "colab": {
          "base_uri": "https://localhost:8080/"
        },
        "id": "mZllDkmmeKQu",
        "outputId": "3e0684a1-4dc4-4d14-bca5-a7867530dd2c"
      },
      "execution_count": 10,
      "outputs": [
        {
          "output_type": "execute_result",
          "data": {
            "text/plain": [
              "COUNTRY                                 228\n",
              "ISO3                                    228\n",
              "WHO_REGION                              228\n",
              "DATA_SOURCE                             228\n",
              "DATE_UPDATED                            228\n",
              "TOTAL_VACCINATIONS                      228\n",
              "PERSONS_VACCINATED_1PLUS_DOSE           225\n",
              "TOTAL_VACCINATIONS_PER100               228\n",
              "PERSONS_VACCINATED_1PLUS_DOSE_PER100    225\n",
              "PERSONS_FULLY_VACCINATED                225\n",
              "PERSONS_FULLY_VACCINATED_PER100         225\n",
              "VACCINES_USED                           225\n",
              "FIRST_VACCINE_DATE                      208\n",
              "NUMBER_VACCINES_TYPES_USED              225\n",
              "dtype: int64"
            ]
          },
          "metadata": {},
          "execution_count": 10
        }
      ]
    },
    {
      "cell_type": "code",
      "source": [
        "df['TOTAL_VACCINATIONS'].value_counts()"
      ],
      "metadata": {
        "colab": {
          "base_uri": "https://localhost:8080/"
        },
        "id": "7eP5O3gTfQtN",
        "outputId": "a8b340f9-c055-4e3f-c85b-7165ad08bbec"
      },
      "execution_count": 11,
      "outputs": [
        {
          "output_type": "execute_result",
          "data": {
            "text/plain": [
              "5216998     1\n",
              "33411666    1\n",
              "9369918     1\n",
              "8881477     1\n",
              "1798575     1\n",
              "           ..\n",
              "111323      1\n",
              "19303999    1\n",
              "79577       1\n",
              "84708       1\n",
              "7608063     1\n",
              "Name: TOTAL_VACCINATIONS, Length: 228, dtype: int64"
            ]
          },
          "metadata": {},
          "execution_count": 11
        }
      ]
    },
    {
      "cell_type": "markdown",
      "source": [
        "**Checking for null values**"
      ],
      "metadata": {
        "id": "WFMtzHjRveti"
      }
    },
    {
      "cell_type": "code",
      "source": [
        "print(df.isnull().sum())"
      ],
      "metadata": {
        "colab": {
          "base_uri": "https://localhost:8080/"
        },
        "id": "5Je5V0XvfdOO",
        "outputId": "e7b07473-9eae-4b02-f881-4f15ab647931"
      },
      "execution_count": 12,
      "outputs": [
        {
          "output_type": "stream",
          "name": "stdout",
          "text": [
            "COUNTRY                                  0\n",
            "ISO3                                     0\n",
            "WHO_REGION                               0\n",
            "DATA_SOURCE                              0\n",
            "DATE_UPDATED                             0\n",
            "TOTAL_VACCINATIONS                       0\n",
            "PERSONS_VACCINATED_1PLUS_DOSE            3\n",
            "TOTAL_VACCINATIONS_PER100                0\n",
            "PERSONS_VACCINATED_1PLUS_DOSE_PER100     3\n",
            "PERSONS_FULLY_VACCINATED                 3\n",
            "PERSONS_FULLY_VACCINATED_PER100          3\n",
            "VACCINES_USED                            3\n",
            "FIRST_VACCINE_DATE                      20\n",
            "NUMBER_VACCINES_TYPES_USED               3\n",
            "dtype: int64\n"
          ]
        }
      ]
    },
    {
      "cell_type": "markdown",
      "source": [
        "**Removing Null/Missing Values**"
      ],
      "metadata": {
        "id": "qg-HSDbHv9HR"
      }
    },
    {
      "cell_type": "code",
      "source": [
        "df = df.dropna()\n",
        "df.count()"
      ],
      "metadata": {
        "colab": {
          "base_uri": "https://localhost:8080/"
        },
        "id": "lCrXl4omfw8K",
        "outputId": "bb65cb54-d49b-48ac-f4f0-30c8636bb170"
      },
      "execution_count": 13,
      "outputs": [
        {
          "output_type": "execute_result",
          "data": {
            "text/plain": [
              "COUNTRY                                 206\n",
              "ISO3                                    206\n",
              "WHO_REGION                              206\n",
              "DATA_SOURCE                             206\n",
              "DATE_UPDATED                            206\n",
              "TOTAL_VACCINATIONS                      206\n",
              "PERSONS_VACCINATED_1PLUS_DOSE           206\n",
              "TOTAL_VACCINATIONS_PER100               206\n",
              "PERSONS_VACCINATED_1PLUS_DOSE_PER100    206\n",
              "PERSONS_FULLY_VACCINATED                206\n",
              "PERSONS_FULLY_VACCINATED_PER100         206\n",
              "VACCINES_USED                           206\n",
              "FIRST_VACCINE_DATE                      206\n",
              "NUMBER_VACCINES_TYPES_USED              206\n",
              "dtype: int64"
            ]
          },
          "metadata": {},
          "execution_count": 13
        }
      ]
    },
    {
      "cell_type": "code",
      "source": [
        "print(df.isnull().sum())"
      ],
      "metadata": {
        "colab": {
          "base_uri": "https://localhost:8080/"
        },
        "id": "QwekPwhcf-bj",
        "outputId": "13ac1938-8817-4c00-81e2-f5f6c82c834a"
      },
      "execution_count": 14,
      "outputs": [
        {
          "output_type": "stream",
          "name": "stdout",
          "text": [
            "COUNTRY                                 0\n",
            "ISO3                                    0\n",
            "WHO_REGION                              0\n",
            "DATA_SOURCE                             0\n",
            "DATE_UPDATED                            0\n",
            "TOTAL_VACCINATIONS                      0\n",
            "PERSONS_VACCINATED_1PLUS_DOSE           0\n",
            "TOTAL_VACCINATIONS_PER100               0\n",
            "PERSONS_VACCINATED_1PLUS_DOSE_PER100    0\n",
            "PERSONS_FULLY_VACCINATED                0\n",
            "PERSONS_FULLY_VACCINATED_PER100         0\n",
            "VACCINES_USED                           0\n",
            "FIRST_VACCINE_DATE                      0\n",
            "NUMBER_VACCINES_TYPES_USED              0\n",
            "dtype: int64\n"
          ]
        }
      ]
    },
    {
      "cell_type": "markdown",
      "source": [
        "**To check the actual dimension of the box,we can use the .describe() method**"
      ],
      "metadata": {
        "id": "lan2W6xNwGto"
      }
    },
    {
      "cell_type": "code",
      "source": [
        "df.describe()"
      ],
      "metadata": {
        "colab": {
          "base_uri": "https://localhost:8080/",
          "height": 364
        },
        "id": "Dg4JlHG0gGJO",
        "outputId": "83ea66b4-7d42-4774-e6f2-531aa8f87207"
      },
      "execution_count": 15,
      "outputs": [
        {
          "output_type": "execute_result",
          "data": {
            "text/plain": [
              "       TOTAL_VACCINATIONS  PERSONS_VACCINATED_1PLUS_DOSE  \\\n",
              "count        2.060000e+02                   2.060000e+02   \n",
              "mean         4.720353e+07                   2.260903e+07   \n",
              "std          2.447806e+08                   1.131227e+08   \n",
              "min          7.400000e+01                   3.700000e+01   \n",
              "25%          4.513935e+05                   2.772375e+05   \n",
              "50%          2.777090e+06                   1.719060e+06   \n",
              "75%          1.569372e+07                   7.674768e+06   \n",
              "max          3.009902e+09                   1.275814e+09   \n",
              "\n",
              "       TOTAL_VACCINATIONS_PER100  PERSONS_VACCINATED_1PLUS_DOSE_PER100  \\\n",
              "count                 206.000000                            206.000000   \n",
              "mean                  110.768981                             52.584063   \n",
              "std                    66.928409                             26.645393   \n",
              "min                     0.081000                              0.067000   \n",
              "25%                    51.969500                             31.387250   \n",
              "50%                   115.291500                             58.828500   \n",
              "75%                   164.329250                             74.918750   \n",
              "max                   245.275000                            106.870000   \n",
              "\n",
              "       PERSONS_FULLY_VACCINATED  PERSONS_FULLY_VACCINATED_PER100  \\\n",
              "count              2.060000e+02                       206.000000   \n",
              "mean               1.952973e+07                        46.749267   \n",
              "std                1.014301e+08                        26.064231   \n",
              "min                3.700000e+01                         0.063000   \n",
              "25%                2.293140e+05                        27.797250   \n",
              "50%                1.201596e+06                        50.510000   \n",
              "75%                6.241434e+06                        70.364000   \n",
              "max                1.235248e+09                        94.229000   \n",
              "\n",
              "       NUMBER_VACCINES_TYPES_USED  \n",
              "count                  206.000000  \n",
              "mean                     4.058252  \n",
              "std                      1.914388  \n",
              "min                      1.000000  \n",
              "25%                      3.000000  \n",
              "50%                      4.000000  \n",
              "75%                      5.000000  \n",
              "max                     11.000000  "
            ],
            "text/html": [
              "\n",
              "  <div id=\"df-b32ea320-5a81-4f98-9e69-43740700b51e\">\n",
              "    <div class=\"colab-df-container\">\n",
              "      <div>\n",
              "<style scoped>\n",
              "    .dataframe tbody tr th:only-of-type {\n",
              "        vertical-align: middle;\n",
              "    }\n",
              "\n",
              "    .dataframe tbody tr th {\n",
              "        vertical-align: top;\n",
              "    }\n",
              "\n",
              "    .dataframe thead th {\n",
              "        text-align: right;\n",
              "    }\n",
              "</style>\n",
              "<table border=\"1\" class=\"dataframe\">\n",
              "  <thead>\n",
              "    <tr style=\"text-align: right;\">\n",
              "      <th></th>\n",
              "      <th>TOTAL_VACCINATIONS</th>\n",
              "      <th>PERSONS_VACCINATED_1PLUS_DOSE</th>\n",
              "      <th>TOTAL_VACCINATIONS_PER100</th>\n",
              "      <th>PERSONS_VACCINATED_1PLUS_DOSE_PER100</th>\n",
              "      <th>PERSONS_FULLY_VACCINATED</th>\n",
              "      <th>PERSONS_FULLY_VACCINATED_PER100</th>\n",
              "      <th>NUMBER_VACCINES_TYPES_USED</th>\n",
              "    </tr>\n",
              "  </thead>\n",
              "  <tbody>\n",
              "    <tr>\n",
              "      <th>count</th>\n",
              "      <td>2.060000e+02</td>\n",
              "      <td>2.060000e+02</td>\n",
              "      <td>206.000000</td>\n",
              "      <td>206.000000</td>\n",
              "      <td>2.060000e+02</td>\n",
              "      <td>206.000000</td>\n",
              "      <td>206.000000</td>\n",
              "    </tr>\n",
              "    <tr>\n",
              "      <th>mean</th>\n",
              "      <td>4.720353e+07</td>\n",
              "      <td>2.260903e+07</td>\n",
              "      <td>110.768981</td>\n",
              "      <td>52.584063</td>\n",
              "      <td>1.952973e+07</td>\n",
              "      <td>46.749267</td>\n",
              "      <td>4.058252</td>\n",
              "    </tr>\n",
              "    <tr>\n",
              "      <th>std</th>\n",
              "      <td>2.447806e+08</td>\n",
              "      <td>1.131227e+08</td>\n",
              "      <td>66.928409</td>\n",
              "      <td>26.645393</td>\n",
              "      <td>1.014301e+08</td>\n",
              "      <td>26.064231</td>\n",
              "      <td>1.914388</td>\n",
              "    </tr>\n",
              "    <tr>\n",
              "      <th>min</th>\n",
              "      <td>7.400000e+01</td>\n",
              "      <td>3.700000e+01</td>\n",
              "      <td>0.081000</td>\n",
              "      <td>0.067000</td>\n",
              "      <td>3.700000e+01</td>\n",
              "      <td>0.063000</td>\n",
              "      <td>1.000000</td>\n",
              "    </tr>\n",
              "    <tr>\n",
              "      <th>25%</th>\n",
              "      <td>4.513935e+05</td>\n",
              "      <td>2.772375e+05</td>\n",
              "      <td>51.969500</td>\n",
              "      <td>31.387250</td>\n",
              "      <td>2.293140e+05</td>\n",
              "      <td>27.797250</td>\n",
              "      <td>3.000000</td>\n",
              "    </tr>\n",
              "    <tr>\n",
              "      <th>50%</th>\n",
              "      <td>2.777090e+06</td>\n",
              "      <td>1.719060e+06</td>\n",
              "      <td>115.291500</td>\n",
              "      <td>58.828500</td>\n",
              "      <td>1.201596e+06</td>\n",
              "      <td>50.510000</td>\n",
              "      <td>4.000000</td>\n",
              "    </tr>\n",
              "    <tr>\n",
              "      <th>75%</th>\n",
              "      <td>1.569372e+07</td>\n",
              "      <td>7.674768e+06</td>\n",
              "      <td>164.329250</td>\n",
              "      <td>74.918750</td>\n",
              "      <td>6.241434e+06</td>\n",
              "      <td>70.364000</td>\n",
              "      <td>5.000000</td>\n",
              "    </tr>\n",
              "    <tr>\n",
              "      <th>max</th>\n",
              "      <td>3.009902e+09</td>\n",
              "      <td>1.275814e+09</td>\n",
              "      <td>245.275000</td>\n",
              "      <td>106.870000</td>\n",
              "      <td>1.235248e+09</td>\n",
              "      <td>94.229000</td>\n",
              "      <td>11.000000</td>\n",
              "    </tr>\n",
              "  </tbody>\n",
              "</table>\n",
              "</div>\n",
              "      <button class=\"colab-df-convert\" onclick=\"convertToInteractive('df-b32ea320-5a81-4f98-9e69-43740700b51e')\"\n",
              "              title=\"Convert this dataframe to an interactive table.\"\n",
              "              style=\"display:none;\">\n",
              "        \n",
              "  <svg xmlns=\"http://www.w3.org/2000/svg\" height=\"24px\"viewBox=\"0 0 24 24\"\n",
              "       width=\"24px\">\n",
              "    <path d=\"M0 0h24v24H0V0z\" fill=\"none\"/>\n",
              "    <path d=\"M18.56 5.44l.94 2.06.94-2.06 2.06-.94-2.06-.94-.94-2.06-.94 2.06-2.06.94zm-11 1L8.5 8.5l.94-2.06 2.06-.94-2.06-.94L8.5 2.5l-.94 2.06-2.06.94zm10 10l.94 2.06.94-2.06 2.06-.94-2.06-.94-.94-2.06-.94 2.06-2.06.94z\"/><path d=\"M17.41 7.96l-1.37-1.37c-.4-.4-.92-.59-1.43-.59-.52 0-1.04.2-1.43.59L10.3 9.45l-7.72 7.72c-.78.78-.78 2.05 0 2.83L4 21.41c.39.39.9.59 1.41.59.51 0 1.02-.2 1.41-.59l7.78-7.78 2.81-2.81c.8-.78.8-2.07 0-2.86zM5.41 20L4 18.59l7.72-7.72 1.47 1.35L5.41 20z\"/>\n",
              "  </svg>\n",
              "      </button>\n",
              "      \n",
              "  <style>\n",
              "    .colab-df-container {\n",
              "      display:flex;\n",
              "      flex-wrap:wrap;\n",
              "      gap: 12px;\n",
              "    }\n",
              "\n",
              "    .colab-df-convert {\n",
              "      background-color: #E8F0FE;\n",
              "      border: none;\n",
              "      border-radius: 50%;\n",
              "      cursor: pointer;\n",
              "      display: none;\n",
              "      fill: #1967D2;\n",
              "      height: 32px;\n",
              "      padding: 0 0 0 0;\n",
              "      width: 32px;\n",
              "    }\n",
              "\n",
              "    .colab-df-convert:hover {\n",
              "      background-color: #E2EBFA;\n",
              "      box-shadow: 0px 1px 2px rgba(60, 64, 67, 0.3), 0px 1px 3px 1px rgba(60, 64, 67, 0.15);\n",
              "      fill: #174EA6;\n",
              "    }\n",
              "\n",
              "    [theme=dark] .colab-df-convert {\n",
              "      background-color: #3B4455;\n",
              "      fill: #D2E3FC;\n",
              "    }\n",
              "\n",
              "    [theme=dark] .colab-df-convert:hover {\n",
              "      background-color: #434B5C;\n",
              "      box-shadow: 0px 1px 3px 1px rgba(0, 0, 0, 0.15);\n",
              "      filter: drop-shadow(0px 1px 2px rgba(0, 0, 0, 0.3));\n",
              "      fill: #FFFFFF;\n",
              "    }\n",
              "  </style>\n",
              "\n",
              "      <script>\n",
              "        const buttonEl =\n",
              "          document.querySelector('#df-b32ea320-5a81-4f98-9e69-43740700b51e button.colab-df-convert');\n",
              "        buttonEl.style.display =\n",
              "          google.colab.kernel.accessAllowed ? 'block' : 'none';\n",
              "\n",
              "        async function convertToInteractive(key) {\n",
              "          const element = document.querySelector('#df-b32ea320-5a81-4f98-9e69-43740700b51e');\n",
              "          const dataTable =\n",
              "            await google.colab.kernel.invokeFunction('convertToInteractive',\n",
              "                                                     [key], {});\n",
              "          if (!dataTable) return;\n",
              "\n",
              "          const docLinkHtml = 'Like what you see? Visit the ' +\n",
              "            '<a target=\"_blank\" href=https://colab.research.google.com/notebooks/data_table.ipynb>data table notebook</a>'\n",
              "            + ' to learn more about interactive tables.';\n",
              "          element.innerHTML = '';\n",
              "          dataTable['output_type'] = 'display_data';\n",
              "          await google.colab.output.renderOutput(dataTable, element);\n",
              "          const docLink = document.createElement('div');\n",
              "          docLink.innerHTML = docLinkHtml;\n",
              "          element.appendChild(docLink);\n",
              "        }\n",
              "      </script>\n",
              "    </div>\n",
              "  </div>\n",
              "  "
            ]
          },
          "metadata": {},
          "execution_count": 15
        }
      ]
    },
    {
      "cell_type": "code",
      "source": [
        "sns.boxplot(x=df['TOTAL_VACCINATIONS'])"
      ],
      "metadata": {
        "colab": {
          "base_uri": "https://localhost:8080/",
          "height": 297
        },
        "id": "7N1Wj9JZgNy8",
        "outputId": "88388675-ea3d-4a94-a28d-7a0755916af4"
      },
      "execution_count": 16,
      "outputs": [
        {
          "output_type": "execute_result",
          "data": {
            "text/plain": [
              "<matplotlib.axes._subplots.AxesSubplot at 0x7ff67d9acd50>"
            ]
          },
          "metadata": {},
          "execution_count": 16
        },
        {
          "output_type": "display_data",
          "data": {
            "text/plain": [
              "<Figure size 432x288 with 1 Axes>"
            ],
            "image/png": "[encoded data removed]"
          },
          "metadata": {
            "needs_background": "light"
          }
        }
      ]
    },
    {
      "cell_type": "code",
      "source": [
        "sns.boxplot(x=df['TOTAL_VACCINATIONS_PER100'])"
      ],
      "metadata": {
        "colab": {
          "base_uri": "https://localhost:8080/",
          "height": 297
        },
        "id": "vEfDzaolggeH",
        "outputId": "fbe26672-c35a-42d1-f3ba-95008d630bad"
      },
      "execution_count": 17,
      "outputs": [
        {
          "output_type": "execute_result",
          "data": {
            "text/plain": [
              "<matplotlib.axes._subplots.AxesSubplot at 0x7ff67d874710>"
            ]
          },
          "metadata": {},
          "execution_count": 17
        },
        {
          "output_type": "display_data",
          "data": {
            "text/plain": [
              "<Figure size 432x288 with 1 Axes>"
            ],
            "image/png": "[encoded data removed]"
          },
          "metadata": {
            "needs_background": "light"
          }
        }
      ]
    },
    {
      "cell_type": "code",
      "source": [
        "sns.boxplot(x=df['TOTAL_VACCINATIONS'], showfliers = False)"
      ],
      "metadata": {
        "colab": {
          "base_uri": "https://localhost:8080/",
          "height": 297
        },
        "id": "uSDAXl_zgs62",
        "outputId": "de22f67f-51ba-4676-c52b-2aeb2b7026ae"
      },
      "execution_count": 18,
      "outputs": [
        {
          "output_type": "execute_result",
          "data": {
            "text/plain": [
              "<matplotlib.axes._subplots.AxesSubplot at 0x7ff67d3ad090>"
            ]
          },
          "metadata": {},
          "execution_count": 18
        },
        {
          "output_type": "display_data",
          "data": {
            "text/plain": [
              "<Figure size 432x288 with 1 Axes>"
            ],
            "image/png": "[encoded data removed]"
          },
          "metadata": {
            "needs_background": "light"
          }
        }
      ]
    },
    {
      "cell_type": "code",
      "source": [
        "plt.hist(df['TOTAL_VACCINATIONS'])\n",
        "plt.show()"
      ],
      "metadata": {
        "colab": {
          "base_uri": "https://localhost:8080/",
          "height": 278
        },
        "id": "Y9seHLLNg4Yh",
        "outputId": "19a9e316-330b-4c47-a1b9-d9bd1860bcfe"
      },
      "execution_count": 19,
      "outputs": [
        {
          "output_type": "display_data",
          "data": {
            "text/plain": [
              "<Figure size 432x288 with 1 Axes>"
            ],
            "image/png": "[encoded data removed]"
          },
          "metadata": {
            "needs_background": "light"
          }
        }
      ]
    },
    {
      "cell_type": "code",
      "source": [
        "plt.hist(df['TOTAL_VACCINATIONS_PER100'])\n",
        "plt.show()"
      ],
      "metadata": {
        "colab": {
          "base_uri": "https://localhost:8080/",
          "height": 265
        },
        "id": "033E_6v1hGRB",
        "outputId": "2b5113b8-0158-4aba-e2a5-b8c793da0420"
      },
      "execution_count": 20,
      "outputs": [
        {
          "output_type": "display_data",
          "data": {
            "text/plain": [
              "<Figure size 432x288 with 1 Axes>"
            ],
            "image/png": "[encoded data removed]"
          },
          "metadata": {
            "needs_background": "light"
          }
        }
      ]
    },
    {
      "cell_type": "code",
      "source": [
        "plt.hist(df['PERSONS_FULLY_VACCINATED_PER100'])\n",
        "plt.show()"
      ],
      "metadata": {
        "colab": {
          "base_uri": "https://localhost:8080/",
          "height": 265
        },
        "id": "CB8vNBpghSqv",
        "outputId": "68bd632f-745e-416b-e895-7dc6205e954e"
      },
      "execution_count": 21,
      "outputs": [
        {
          "output_type": "display_data",
          "data": {
            "text/plain": [
              "<Figure size 432x288 with 1 Axes>"
            ],
            "image/png": "[encoded data removed]"
          },
          "metadata": {
            "needs_background": "light"
          }
        }
      ]
    },
    {
      "cell_type": "code",
      "source": [
        "sns.barplot(df['TOTAL_VACCINATIONS'],df['PERSONS_FULLY_VACCINATED_PER100'])\n",
        "plt.show()"
      ],
      "metadata": {
        "colab": {
          "base_uri": "https://localhost:8080/",
          "height": 335
        },
        "id": "F5wY88WFhmUV",
        "outputId": "5f1c1d93-0756-48ab-82dc-415c7cc54cd0"
      },
      "execution_count": 22,
      "outputs": [
        {
          "output_type": "stream",
          "name": "stderr",
          "text": [
            "/usr/local/lib/python3.7/dist-packages/seaborn/_decorators.py:43: FutureWarning: Pass the following variables as keyword args: x, y. From version 0.12, the only valid positional argument will be `data`, and passing other arguments without an explicit keyword will result in an error or misinterpretation.\n",
            "  FutureWarning\n"
          ]
        },
        {
          "output_type": "display_data",
          "data": {
            "text/plain": [
              "<Figure size 432x288 with 1 Axes>"
            ],
            "image/png": "[encoded data removed]"
          },
          "metadata": {
            "needs_background": "light"
          }
        }
      ]
    },
    {
      "cell_type": "code",
      "source": [
        "print(df.isnull().sum())"
      ],
      "metadata": {
        "colab": {
          "base_uri": "https://localhost:8080/"
        },
        "id": "TxnR4fhiCONJ",
        "outputId": "cf87a08a-592e-42de-a117-47cbad8f1ae2"
      },
      "execution_count": 23,
      "outputs": [
        {
          "output_type": "stream",
          "name": "stdout",
          "text": [
            "COUNTRY                                 0\n",
            "ISO3                                    0\n",
            "WHO_REGION                              0\n",
            "DATA_SOURCE                             0\n",
            "DATE_UPDATED                            0\n",
            "TOTAL_VACCINATIONS                      0\n",
            "PERSONS_VACCINATED_1PLUS_DOSE           0\n",
            "TOTAL_VACCINATIONS_PER100               0\n",
            "PERSONS_VACCINATED_1PLUS_DOSE_PER100    0\n",
            "PERSONS_FULLY_VACCINATED                0\n",
            "PERSONS_FULLY_VACCINATED_PER100         0\n",
            "VACCINES_USED                           0\n",
            "FIRST_VACCINE_DATE                      0\n",
            "NUMBER_VACCINES_TYPES_USED              0\n",
            "dtype: int64\n"
          ]
        }
      ]
    },
    {
      "cell_type": "code",
      "source": [
        "plt.figure(figsize=(10,10))\n",
        "c=df.corr()\n",
        "sns.heatmap(c,cmap=\"BrBG\",annot = True)\n",
        "c"
      ],
      "metadata": {
        "colab": {
          "base_uri": "https://localhost:8080/",
          "height": 1000
        },
        "id": "5hCZ9Ts3iK3c",
        "outputId": "de431c09-8a36-42bb-d2af-257e48b327a3"
      },
      "execution_count": 24,
      "outputs": [
        {
          "output_type": "execute_result",
          "data": {
            "text/plain": [
              "                                      TOTAL_VACCINATIONS  \\\n",
              "TOTAL_VACCINATIONS                              1.000000   \n",
              "PERSONS_VACCINATED_1PLUS_DOSE                   0.991250   \n",
              "TOTAL_VACCINATIONS_PER100                       0.150696   \n",
              "PERSONS_VACCINATED_1PLUS_DOSE_PER100            0.161909   \n",
              "PERSONS_FULLY_VACCINATED                        0.999605   \n",
              "PERSONS_FULLY_VACCINATED_PER100                 0.149195   \n",
              "NUMBER_VACCINES_TYPES_USED                      0.216776   \n",
              "\n",
              "                                      PERSONS_VACCINATED_1PLUS_DOSE  \\\n",
              "TOTAL_VACCINATIONS                                         0.991250   \n",
              "PERSONS_VACCINATED_1PLUS_DOSE                              1.000000   \n",
              "TOTAL_VACCINATIONS_PER100                                  0.136542   \n",
              "PERSONS_VACCINATED_1PLUS_DOSE_PER100                       0.155298   \n",
              "PERSONS_FULLY_VACCINATED                                   0.993351   \n",
              "PERSONS_FULLY_VACCINATED_PER100                            0.136237   \n",
              "NUMBER_VACCINES_TYPES_USED                                 0.221857   \n",
              "\n",
              "                                      TOTAL_VACCINATIONS_PER100  \\\n",
              "TOTAL_VACCINATIONS                                     0.150696   \n",
              "PERSONS_VACCINATED_1PLUS_DOSE                          0.136542   \n",
              "TOTAL_VACCINATIONS_PER100                              1.000000   \n",
              "PERSONS_VACCINATED_1PLUS_DOSE_PER100                   0.968334   \n",
              "PERSONS_FULLY_VACCINATED                               0.146286   \n",
              "PERSONS_FULLY_VACCINATED_PER100                        0.978400   \n",
              "NUMBER_VACCINES_TYPES_USED                             0.155779   \n",
              "\n",
              "                                      PERSONS_VACCINATED_1PLUS_DOSE_PER100  \\\n",
              "TOTAL_VACCINATIONS                                                0.161909   \n",
              "PERSONS_VACCINATED_1PLUS_DOSE                                     0.155298   \n",
              "TOTAL_VACCINATIONS_PER100                                         0.968334   \n",
              "PERSONS_VACCINATED_1PLUS_DOSE_PER100                              1.000000   \n",
              "PERSONS_FULLY_VACCINATED                                          0.159394   \n",
              "PERSONS_FULLY_VACCINATED_PER100                                   0.981705   \n",
              "NUMBER_VACCINES_TYPES_USED                                        0.187032   \n",
              "\n",
              "                                      PERSONS_FULLY_VACCINATED  \\\n",
              "TOTAL_VACCINATIONS                                    0.999605   \n",
              "PERSONS_VACCINATED_1PLUS_DOSE                         0.993351   \n",
              "TOTAL_VACCINATIONS_PER100                             0.146286   \n",
              "PERSONS_VACCINATED_1PLUS_DOSE_PER100                  0.159394   \n",
              "PERSONS_FULLY_VACCINATED                              1.000000   \n",
              "PERSONS_FULLY_VACCINATED_PER100                       0.146799   \n",
              "NUMBER_VACCINES_TYPES_USED                            0.218849   \n",
              "\n",
              "                                      PERSONS_FULLY_VACCINATED_PER100  \\\n",
              "TOTAL_VACCINATIONS                                           0.149195   \n",
              "PERSONS_VACCINATED_1PLUS_DOSE                                0.136237   \n",
              "TOTAL_VACCINATIONS_PER100                                    0.978400   \n",
              "PERSONS_VACCINATED_1PLUS_DOSE_PER100                         0.981705   \n",
              "PERSONS_FULLY_VACCINATED                                     0.146799   \n",
              "PERSONS_FULLY_VACCINATED_PER100                              1.000000   \n",
              "NUMBER_VACCINES_TYPES_USED                                   0.137917   \n",
              "\n",
              "                                      NUMBER_VACCINES_TYPES_USED  \n",
              "TOTAL_VACCINATIONS                                      0.216776  \n",
              "PERSONS_VACCINATED_1PLUS_DOSE                           0.221857  \n",
              "TOTAL_VACCINATIONS_PER100                               0.155779  \n",
              "PERSONS_VACCINATED_1PLUS_DOSE_PER100                    0.187032  \n",
              "PERSONS_FULLY_VACCINATED                                0.218849  \n",
              "PERSONS_FULLY_VACCINATED_PER100                         0.137917  \n",
              "NUMBER_VACCINES_TYPES_USED                              1.000000  "
            ],
            "text/html": [
              "\n",
              "  <div id=\"df-0517f133-c042-4eb4-a984-e31bd76f286f\">\n",
              "    <div class=\"colab-df-container\">\n",
              "      <div>\n",
              "<style scoped>\n",
              "    .dataframe tbody tr th:only-of-type {\n",
              "        vertical-align: middle;\n",
              "    }\n",
              "\n",
              "    .dataframe tbody tr th {\n",
              "        vertical-align: top;\n",
              "    }\n",
              "\n",
              "    .dataframe thead th {\n",
              "        text-align: right;\n",
              "    }\n",
              "</style>\n",
              "<table border=\"1\" class=\"dataframe\">\n",
              "  <thead>\n",
              "    <tr style=\"text-align: right;\">\n",
              "      <th></th>\n",
              "      <th>TOTAL_VACCINATIONS</th>\n",
              "      <th>PERSONS_VACCINATED_1PLUS_DOSE</th>\n",
              "      <th>TOTAL_VACCINATIONS_PER100</th>\n",
              "      <th>PERSONS_VACCINATED_1PLUS_DOSE_PER100</th>\n",
              "      <th>PERSONS_FULLY_VACCINATED</th>\n",
              "      <th>PERSONS_FULLY_VACCINATED_PER100</th>\n",
              "      <th>NUMBER_VACCINES_TYPES_USED</th>\n",
              "    </tr>\n",
              "  </thead>\n",
              "  <tbody>\n",
              "    <tr>\n",
              "      <th>TOTAL_VACCINATIONS</th>\n",
              "      <td>1.000000</td>\n",
              "      <td>0.991250</td>\n",
              "      <td>0.150696</td>\n",
              "      <td>0.161909</td>\n",
              "      <td>0.999605</td>\n",
              "      <td>0.149195</td>\n",
              "      <td>0.216776</td>\n",
              "    </tr>\n",
              "    <tr>\n",
              "      <th>PERSONS_VACCINATED_1PLUS_DOSE</th>\n",
              "      <td>0.991250</td>\n",
              "      <td>1.000000</td>\n",
              "      <td>0.136542</td>\n",
              "      <td>0.155298</td>\n",
              "      <td>0.993351</td>\n",
              "      <td>0.136237</td>\n",
              "      <td>0.221857</td>\n",
              "    </tr>\n",
              "    <tr>\n",
              "      <th>TOTAL_VACCINATIONS_PER100</th>\n",
              "      <td>0.150696</td>\n",
              "      <td>0.136542</td>\n",
              "      <td>1.000000</td>\n",
              "      <td>0.968334</td>\n",
              "      <td>0.146286</td>\n",
              "      <td>0.978400</td>\n",
              "      <td>0.155779</td>\n",
              "    </tr>\n",
              "    <tr>\n",
              "      <th>PERSONS_VACCINATED_1PLUS_DOSE_PER100</th>\n",
              "      <td>0.161909</td>\n",
              "      <td>0.155298</td>\n",
              "      <td>0.968334</td>\n",
              "      <td>1.000000</td>\n",
              "      <td>0.159394</td>\n",
              "      <td>0.981705</td>\n",
              "      <td>0.187032</td>\n",
              "    </tr>\n",
              "    <tr>\n",
              "      <th>PERSONS_FULLY_VACCINATED</th>\n",
              "      <td>0.999605</td>\n",
              "      <td>0.993351</td>\n",
              "      <td>0.146286</td>\n",
              "      <td>0.159394</td>\n",
              "      <td>1.000000</td>\n",
              "      <td>0.146799</td>\n",
              "      <td>0.218849</td>\n",
              "    </tr>\n",
              "    <tr>\n",
              "      <th>PERSONS_FULLY_VACCINATED_PER100</th>\n",
              "      <td>0.149195</td>\n",
              "      <td>0.136237</td>\n",
              "      <td>0.978400</td>\n",
              "      <td>0.981705</td>\n",
              "      <td>0.146799</td>\n",
              "      <td>1.000000</td>\n",
              "      <td>0.137917</td>\n",
              "    </tr>\n",
              "    <tr>\n",
              "      <th>NUMBER_VACCINES_TYPES_USED</th>\n",
              "      <td>0.216776</td>\n",
              "      <td>0.221857</td>\n",
              "      <td>0.155779</td>\n",
              "      <td>0.187032</td>\n",
              "      <td>0.218849</td>\n",
              "      <td>0.137917</td>\n",
              "      <td>1.000000</td>\n",
              "    </tr>\n",
              "  </tbody>\n",
              "</table>\n",
              "</div>\n",
              "      <button class=\"colab-df-convert\" onclick=\"convertToInteractive('df-0517f133-c042-4eb4-a984-e31bd76f286f')\"\n",
              "              title=\"Convert this dataframe to an interactive table.\"\n",
              "              style=\"display:none;\">\n",
              "        \n",
              "  <svg xmlns=\"http://www.w3.org/2000/svg\" height=\"24px\"viewBox=\"0 0 24 24\"\n",
              "       width=\"24px\">\n",
              "    <path d=\"M0 0h24v24H0V0z\" fill=\"none\"/>\n",
              "    <path d=\"M18.56 5.44l.94 2.06.94-2.06 2.06-.94-2.06-.94-.94-2.06-.94 2.06-2.06.94zm-11 1L8.5 8.5l.94-2.06 2.06-.94-2.06-.94L8.5 2.5l-.94 2.06-2.06.94zm10 10l.94 2.06.94-2.06 2.06-.94-2.06-.94-.94-2.06-.94 2.06-2.06.94z\"/><path d=\"M17.41 7.96l-1.37-1.37c-.4-.4-.92-.59-1.43-.59-.52 0-1.04.2-1.43.59L10.3 9.45l-7.72 7.72c-.78.78-.78 2.05 0 2.83L4 21.41c.39.39.9.59 1.41.59.51 0 1.02-.2 1.41-.59l7.78-7.78 2.81-2.81c.8-.78.8-2.07 0-2.86zM5.41 20L4 18.59l7.72-7.72 1.47 1.35L5.41 20z\"/>\n",
              "  </svg>\n",
              "      </button>\n",
              "      \n",
              "  <style>\n",
              "    .colab-df-container {\n",
              "      display:flex;\n",
              "      flex-wrap:wrap;\n",
              "      gap: 12px;\n",
              "    }\n",
              "\n",
              "    .colab-df-convert {\n",
              "      background-color: #E8F0FE;\n",
              "      border: none;\n",
              "      border-radius: 50%;\n",
              "      cursor: pointer;\n",
              "      display: none;\n",
              "      fill: #1967D2;\n",
              "      height: 32px;\n",
              "      padding: 0 0 0 0;\n",
              "      width: 32px;\n",
              "    }\n",
              "\n",
              "    .colab-df-convert:hover {\n",
              "      background-color: #E2EBFA;\n",
              "      box-shadow: 0px 1px 2px rgba(60, 64, 67, 0.3), 0px 1px 3px 1px rgba(60, 64, 67, 0.15);\n",
              "      fill: #174EA6;\n",
              "    }\n",
              "\n",
              "    [theme=dark] .colab-df-convert {\n",
              "      background-color: #3B4455;\n",
              "      fill: #D2E3FC;\n",
              "    }\n",
              "\n",
              "    [theme=dark] .colab-df-convert:hover {\n",
              "      background-color: #434B5C;\n",
              "      box-shadow: 0px 1px 3px 1px rgba(0, 0, 0, 0.15);\n",
              "      filter: drop-shadow(0px 1px 2px rgba(0, 0, 0, 0.3));\n",
              "      fill: #FFFFFF;\n",
              "    }\n",
              "  </style>\n",
              "\n",
              "      <script>\n",
              "        const buttonEl =\n",
              "          document.querySelector('#df-0517f133-c042-4eb4-a984-e31bd76f286f button.colab-df-convert');\n",
              "        buttonEl.style.display =\n",
              "          google.colab.kernel.accessAllowed ? 'block' : 'none';\n",
              "\n",
              "        async function convertToInteractive(key) {\n",
              "          const element = document.querySelector('#df-0517f133-c042-4eb4-a984-e31bd76f286f');\n",
              "          const dataTable =\n",
              "            await google.colab.kernel.invokeFunction('convertToInteractive',\n",
              "                                                     [key], {});\n",
              "          if (!dataTable) return;\n",
              "\n",
              "          const docLinkHtml = 'Like what you see? Visit the ' +\n",
              "            '<a target=\"_blank\" href=https://colab.research.google.com/notebooks/data_table.ipynb>data table notebook</a>'\n",
              "            + ' to learn more about interactive tables.';\n",
              "          element.innerHTML = '';\n",
              "          dataTable['output_type'] = 'display_data';\n",
              "          await google.colab.output.renderOutput(dataTable, element);\n",
              "          const docLink = document.createElement('div');\n",
              "          docLink.innerHTML = docLinkHtml;\n",
              "          element.appendChild(docLink);\n",
              "        }\n",
              "      </script>\n",
              "    </div>\n",
              "  </div>\n",
              "  "
            ]
          },
          "metadata": {},
          "execution_count": 24
        },
        {
          "output_type": "display_data",
          "data": {
            "text/plain": [
              "<Figure size 720x720 with 2 Axes>"
            ],
            "image/png": "[encoded data removed]"
          },
          "metadata": {
            "needs_background": "light"
          }
        }
      ]
    },
    {
      "cell_type": "markdown",
      "source": [
        "conclusion:\n",
        "In this experiment I learnt how to perform Exploratory Data Analysis with the help of different python libraries such as pandas, seaborn, matplotlib,etc.\n",
        "by the performed EDA we can conclude that persons fully vaccinated per 100 people is very low."
      ],
      "metadata": {
        "id": "9AOgcqBrCq1P"
      }
    }
  ]
}